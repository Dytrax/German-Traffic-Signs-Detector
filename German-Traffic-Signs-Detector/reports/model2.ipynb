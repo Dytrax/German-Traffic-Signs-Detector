{
 "cells": [
  {
   "cell_type": "code",
   "execution_count": 23,
   "metadata": {},
   "outputs": [],
   "source": [
    "import tensorflow as tf\n",
    "from skimage import color, exposure, transform\n",
    "import numpy, os\n",
    "import glob, os\n",
    "import matplotlib.pyplot as plt\n",
    "import matplotlib.image as mpimg\n",
    "from sklearn.model_selection import train_test_split\n",
    "import cv2\n",
    "import numpy as np\n",
    "from numpy import array\n",
    "from numpy import argmax\n",
    "from sklearn.preprocessing import LabelEncoder\n",
    "from sklearn.preprocessing import OneHotEncoder\n"
   ]
  },
  {
   "cell_type": "code",
   "execution_count": 27,
   "metadata": {},
   "outputs": [],
   "source": [
    "\n",
    "\n",
    "\n",
    "\n",
    "def preprocess_img(img):\n",
    "    IMG_SIZE = 35\n",
    "    # Histogram normalization in v channel\n",
    "    hsv = color.rgb2hsv(img)\n",
    "    hsv[:, :, 2] = exposure.equalize_hist(hsv[:, :, 2])\n",
    "    img = color.hsv2rgb(hsv)\n",
    "\n",
    "    \n",
    "    img = transform.resize(img, (IMG_SIZE, IMG_SIZE),mode='constant')\n",
    "\n",
    "  \n",
    "\n",
    "    return img\n",
    "\n",
    "\n",
    "def get_class(img_path):\n",
    "    return int(img_path.split('/')[-2])\n",
    "\n",
    "## root_dir :  Need to be a PATH with /(slash) not \\ (backslash) example: C:/Users/Usuario/Documents/German-Traffic-Signs-Detector/images/FullIJCNN2013\n",
    "def readImageAndProccess(root_dir):\n",
    "    imgs = []\n",
    "    labels = []\n",
    "\n",
    "    all_img_paths = glob.glob(os.path.join(root_dir, '*/*.ppm'))\n",
    "    ##print(all_img_paths)\n",
    "    ##np.random.shuffle(all_img_paths)\n",
    "    ##print(all_img_paths)\n",
    "    for img_path in all_img_paths:\n",
    "        ##print(img_path)\n",
    "        img_path2=img_path.replace(\"\\\\\",\"/\")\n",
    "        ##print(img_path2) io.imread                          \n",
    "        img = preprocess_img(cv2.imread(img_path))\n",
    "        label = get_class(img_path2)\n",
    "        imgs.append(img)\n",
    "        labels.append(label)\n",
    "    ##print(labels) \n",
    "\n",
    "    \n",
    "    \n",
    "    ##print(X2.shape)\n",
    "    ##print(nX2.shape)\n",
    "    # Make one hot targets\n",
    "    ##Y = np.eye(NUM_CLASSES, dtype='uint8')[labels]\n",
    "    ##print(len(labels))\n",
    "    return imgs,labels"
   ]
  },
  {
   "cell_type": "code",
   "execution_count": 28,
   "metadata": {},
   "outputs": [
    {
     "name": "stdout",
     "output_type": "stream",
     "text": [
      "970\n",
      "243\n",
      "3675\n",
      "43\n"
     ]
    }
   ],
   "source": [
    "route=\"C:/Users/Usuario/Documents/German-Traffic-Signs-Detector/images/FullIJCNN2013\"\n",
    "imgs,labels=readImageAndProccess(route)\n",
    "imgs_nparray = np.array(imgs, dtype='float32')\n",
    "\n",
    "X = np.reshape(imgs_nparray, (imgs_nparray.shape[0], -1))\n",
    "NUM_CLASSES = 43\n",
    "Y = np.eye(NUM_CLASSES, dtype='uint8')[labels]\n",
    "\n",
    "#Onehot_encode Ylist\n",
    "label_encoder = LabelEncoder()\n",
    "integer_encoded = label_encoder.fit_transform(labels)\n",
    "onehot_encoder = OneHotEncoder(sparse=False)\n",
    "integer_encoded = integer_encoded.reshape(len(integer_encoded), 1)\n",
    "onehot_Ylist = onehot_encoder.fit_transform(integer_encoded)\n",
    "\n",
    "x_train, x_test, y_train, y_test = train_test_split(X,Y, test_size=0.20, random_state=0)\n",
    "\n",
    "ntrain=len(x_train)\n",
    "ntest=len(x_test)\n",
    "dim= x_train.shape[1]\n",
    "nclass=y_train.shape[1]\n",
    "print(ntrain)\n",
    "print(ntest)\n",
    "print(dim)\n",
    "print(nclass)\n"
   ]
  },
  {
   "cell_type": "code",
   "execution_count": 29,
   "metadata": {},
   "outputs": [],
   "source": [
    "#create a computation graph.\n",
    "# Parameters of Logistic Regression\n",
    "learning_rate   = 0.001\n",
    "training_epochs = 1000\n",
    "batch_size      = 10\n",
    "\n"
   ]
  },
  {
   "cell_type": "code",
   "execution_count": 30,
   "metadata": {},
   "outputs": [],
   "source": [
    "#placeholder that will be fed at run time with a training minibatch\n",
    "X_ = tf.placeholder(tf.float32, [None, dim])\n",
    "Y_ = tf.placeholder(tf.float32, [None, nclass])\n",
    "#Set model weights\n",
    "W = tf.Variable(tf.zeros([dim, nclass]))\n",
    "b = tf.Variable(tf.zeros([nclass]))"
   ]
  },
  {
   "cell_type": "code",
   "execution_count": 31,
   "metadata": {},
   "outputs": [],
   "source": [
    "#Linear mapping\n",
    "prediction = tf.matmul(X_, W) + b\n",
    "model = tf.nn.softmax(tf.matmul(X_, W) + b)\n",
    "\n",
    "#setup the minimisation\n",
    "cost_function = -tf.reduce_sum(Y_*tf.log(prediction)) \n",
    "entropy = tf.nn.softmax_cross_entropy_with_logits( logits=prediction, labels=Y_)\n",
    "loss = tf.reduce_mean(entropy) # computes the mean over examples in the batch\n",
    "#\n",
    "optimizer =tf.train.GradientDescentOptimizer(learning_rate=learning_rate).minimize(loss)"
   ]
  },
  {
   "cell_type": "code",
   "execution_count": 32,
   "metadata": {},
   "outputs": [
    {
     "name": "stdout",
     "output_type": "stream",
     "text": [
      "Accuracy: 0.89711934\n"
     ]
    }
   ],
   "source": [
    "init = tf.global_variables_initializer()\n",
    "# Launch the graph\n",
    "with tf.Session() as sess:\n",
    "    sess.run(init)\n",
    "    # Training cycle\n",
    "    for epoch in range(training_epochs):\n",
    "        avg_cost = 0.\n",
    "        num_batch = int(ntrain/batch_size)\n",
    "        # Loop over all batches\n",
    "        for i in range(num_batch): \n",
    "            randidx = np.random.randint(ntrain, size=batch_size)\n",
    "            batch_xs = x_train[randidx, :]\n",
    "            batch_ys = y_train[randidx, :]\n",
    "            # Fit training using batch data\n",
    "            sess.run(optimizer, feed_dict={X_: batch_xs, Y_: batch_ys})\n",
    "            # Compute average loss\n",
    "            avg_cost += sess.run(cost_function, feed_dict={X_: batch_xs, Y_: batch_ys})/num_batch\n",
    "    # test the model\n",
    "    predictions = tf.equal(tf.argmax(model, 1), tf.argmax(Y_, 1))\n",
    "    accuracy = tf.reduce_mean(tf.cast(predictions, \"float\"))\n",
    "    print (\"Accuracy:\", accuracy.eval({X_: x_test, Y_: y_test}))\n",
    "    sess.close()\n",
    "\n",
    "    \n"
   ]
  }
 ],
 "metadata": {
  "kernelspec": {
   "display_name": "Python 3",
   "language": "python",
   "name": "python3"
  },
  "language_info": {
   "codemirror_mode": {
    "name": "ipython",
    "version": 3
   },
   "file_extension": ".py",
   "mimetype": "text/x-python",
   "name": "python",
   "nbconvert_exporter": "python",
   "pygments_lexer": "ipython3",
   "version": "3.6.4"
  }
 },
 "nbformat": 4,
 "nbformat_minor": 2
}
